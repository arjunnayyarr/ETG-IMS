{
 "cells": [
  {
   "cell_type": "code",
   "execution_count": null,
   "metadata": {},
   "outputs": [],
   "source": [
    "#Purchase a product.\n",
    "\n",
    "\n",
    "import json\n",
    "fd = open('records.json')\n",
    "r = fd.read()\n",
    "records = json.loads(r)\n",
    "\n",
    "\n",
    "new_customer = str(input(\"Enter name: \"))\n",
    "print(\" \")\n",
    "num_purchases = int(input(\"How many products do you want to purchase? \"))\n",
    "print(\" \")\n",
    "item = 1\n",
    "total_amount = 0\n",
    "\n",
    "custom_product_id = \"\"\n",
    "custom_product_qty = \"\"\n",
    "\n",
    "for j in range(num_purchases):\n",
    "    customer = new_customer\n",
    "    print (\"Enter details of product number \" +str(item))\n",
    "    purchase_product_id = str(input(\"Enter the product ID of the product you want to purchase: \"))\n",
    "    purchase_product_quantity = int(input(\"Enter quantity of the product: \"))\n",
    "    item += 1\n",
    "    if purchase_product_quantity <= records[purchase_product_id]['quantity']:\n",
    "        amount_due = purchase_product_quantity*records[purchase_product_id]['price']\n",
    "        records[purchase_product_id]['quantity'] = records[purchase_product_id]['quantity'] - purchase_product_quantity\n",
    "        print(\"Product ID : \" + purchase_product_id)\n",
    "        print(\"Product Quantity : \" + str(purchase_product_quantity))\n",
    "        print(\"Amount : \" + str(amount_due))\n",
    "        \n",
    "        \n",
    "        total_amount = total_amount + amount_due\n",
    "        custom_product_id = custom_product_id + \" + \" + str(purchase_product_id)\n",
    "        custom_product_qty = custom_product_qty + \" + \" + str(purchase_product_quantity)\n",
    "        print(\"********************************************************\")\n",
    "    \n",
    "    else:\n",
    "        print(\"Sorry, the product quantity is unavailable.\")\n",
    "        \n",
    "sales = {new_customer : {'Product ID(s)' : custom_product_id, 'Quantity' : custom_product_qty, 'Total Amount Paid' : total_amount}}       \n",
    "print(\"Total amount due: \")\n",
    "print(total_amount)\n",
    "    \n",
    "    \n",
    "records_js = json.dumps(records)\n",
    "fr = open('records.json','w')\n",
    "fr.write(records_js)\n",
    "fr.close()\n",
    "\n",
    "sales_js = json.dumps(sales)\n",
    "fs = open('sales.json','a')\n",
    "fs.write(sales_js)\n",
    "fs.close()\n",
    "\n",
    "\n",
    "\n"
   ]
  },
  {
   "cell_type": "code",
   "execution_count": 136,
   "metadata": {},
   "outputs": [
    {
     "data": {
      "text/plain": [
       "{'Arjun': {'Product ID(s)': ' + 110012 + 110015',\n",
       "  'Quantity': ' + 2 + 2',\n",
       "  'Total Amount Paid': 2700}}"
      ]
     },
     "execution_count": 136,
     "metadata": {},
     "output_type": "execute_result"
    }
   ],
   "source": [
    "sales\n"
   ]
  },
  {
   "cell_type": "code",
   "execution_count": null,
   "metadata": {},
   "outputs": [],
   "source": []
  }
 ],
 "metadata": {
  "kernelspec": {
   "display_name": "Python 3",
   "language": "python",
   "name": "python3"
  },
  "language_info": {
   "codemirror_mode": {
    "name": "ipython",
    "version": 3
   },
   "file_extension": ".py",
   "mimetype": "text/x-python",
   "name": "python",
   "nbconvert_exporter": "python",
   "pygments_lexer": "ipython3",
   "version": "3.8.3"
  }
 },
 "nbformat": 4,
 "nbformat_minor": 4
}
